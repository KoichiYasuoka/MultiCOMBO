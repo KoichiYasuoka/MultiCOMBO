{
  "nbformat":4,
  "nbformat_minor":0,
  "metadata":{
    "colab":{ "name":"MultiCOMBO on Google Colaboratory" },
    "kernelspec":{ "name":"python3" }
  },
  "cells": [
    {
      "cell_type":"markdown",
      "metadata":{ "colab_type":"text" },
      "source":[
        "# [MultiCOMBO](https://github.com/KoichiYasuoka/MultiCOMBO/) on Google Colaboratory\n"
      ]
    },
    {
      "cell_type":"code",
      "metadata": { "colab_type":"code" },
      "source": [
        "!pip install multicombo 'google-cloud-storage>=1.32.0'\n",
        "!python -m spacy download en_core_web_sm\n",
        "import multicombo\n",
        "nlp=multicombo.load(\"en\")\n",
        "doc=nlp(\"Bei mir bist du schön means that you're grand\")\n",
        "import deplacy\n",
        "deplacy.render(doc)\n",
        "deplacy.serve(doc,port=None)"
      ]
    }
  ]
}
